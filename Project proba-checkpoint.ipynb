{
 "cells": [
  {
   "cell_type": "code",
   "execution_count": 340,
   "id": "239f5adb",
   "metadata": {},
   "outputs": [],
   "source": [
    "import pandas as pd"
   ]
  },
  {
   "cell_type": "code",
   "execution_count": 341,
   "id": "f6ff3ddd",
   "metadata": {},
   "outputs": [],
   "source": [
    "file = pd.read_csv ('C:/Users/ASUS/OneDrive/Desktop/insurance.csv')"
   ]
  },
  {
   "cell_type": "code",
   "execution_count": 342,
   "id": "d7fbe5c8",
   "metadata": {
    "scrolled": false
   },
   "outputs": [
    {
     "data": {
      "text/html": [
       "<div>\n",
       "<style scoped>\n",
       "    .dataframe tbody tr th:only-of-type {\n",
       "        vertical-align: middle;\n",
       "    }\n",
       "\n",
       "    .dataframe tbody tr th {\n",
       "        vertical-align: top;\n",
       "    }\n",
       "\n",
       "    .dataframe thead th {\n",
       "        text-align: right;\n",
       "    }\n",
       "</style>\n",
       "<table border=\"1\" class=\"dataframe\">\n",
       "  <thead>\n",
       "    <tr style=\"text-align: right;\">\n",
       "      <th></th>\n",
       "      <th>age</th>\n",
       "      <th>sex</th>\n",
       "      <th>bmi</th>\n",
       "      <th>children</th>\n",
       "      <th>smoker</th>\n",
       "      <th>region</th>\n",
       "      <th>charges</th>\n",
       "    </tr>\n",
       "  </thead>\n",
       "  <tbody>\n",
       "    <tr>\n",
       "      <th>0</th>\n",
       "      <td>19</td>\n",
       "      <td>female</td>\n",
       "      <td>27.900</td>\n",
       "      <td>0</td>\n",
       "      <td>yes</td>\n",
       "      <td>southwest</td>\n",
       "      <td>16884.92400</td>\n",
       "    </tr>\n",
       "    <tr>\n",
       "      <th>1</th>\n",
       "      <td>18</td>\n",
       "      <td>male</td>\n",
       "      <td>33.770</td>\n",
       "      <td>1</td>\n",
       "      <td>no</td>\n",
       "      <td>southeast</td>\n",
       "      <td>1725.55230</td>\n",
       "    </tr>\n",
       "    <tr>\n",
       "      <th>2</th>\n",
       "      <td>28</td>\n",
       "      <td>male</td>\n",
       "      <td>33.000</td>\n",
       "      <td>3</td>\n",
       "      <td>no</td>\n",
       "      <td>southeast</td>\n",
       "      <td>4449.46200</td>\n",
       "    </tr>\n",
       "    <tr>\n",
       "      <th>3</th>\n",
       "      <td>33</td>\n",
       "      <td>male</td>\n",
       "      <td>22.705</td>\n",
       "      <td>0</td>\n",
       "      <td>no</td>\n",
       "      <td>northwest</td>\n",
       "      <td>21984.47061</td>\n",
       "    </tr>\n",
       "    <tr>\n",
       "      <th>4</th>\n",
       "      <td>32</td>\n",
       "      <td>male</td>\n",
       "      <td>28.880</td>\n",
       "      <td>0</td>\n",
       "      <td>no</td>\n",
       "      <td>northwest</td>\n",
       "      <td>3866.85520</td>\n",
       "    </tr>\n",
       "    <tr>\n",
       "      <th>...</th>\n",
       "      <td>...</td>\n",
       "      <td>...</td>\n",
       "      <td>...</td>\n",
       "      <td>...</td>\n",
       "      <td>...</td>\n",
       "      <td>...</td>\n",
       "      <td>...</td>\n",
       "    </tr>\n",
       "    <tr>\n",
       "      <th>1333</th>\n",
       "      <td>50</td>\n",
       "      <td>male</td>\n",
       "      <td>30.970</td>\n",
       "      <td>3</td>\n",
       "      <td>no</td>\n",
       "      <td>northwest</td>\n",
       "      <td>10600.54830</td>\n",
       "    </tr>\n",
       "    <tr>\n",
       "      <th>1334</th>\n",
       "      <td>18</td>\n",
       "      <td>female</td>\n",
       "      <td>31.920</td>\n",
       "      <td>0</td>\n",
       "      <td>no</td>\n",
       "      <td>northeast</td>\n",
       "      <td>2205.98080</td>\n",
       "    </tr>\n",
       "    <tr>\n",
       "      <th>1335</th>\n",
       "      <td>18</td>\n",
       "      <td>female</td>\n",
       "      <td>36.850</td>\n",
       "      <td>0</td>\n",
       "      <td>no</td>\n",
       "      <td>southeast</td>\n",
       "      <td>1629.83350</td>\n",
       "    </tr>\n",
       "    <tr>\n",
       "      <th>1336</th>\n",
       "      <td>21</td>\n",
       "      <td>female</td>\n",
       "      <td>25.800</td>\n",
       "      <td>0</td>\n",
       "      <td>no</td>\n",
       "      <td>southwest</td>\n",
       "      <td>2007.94500</td>\n",
       "    </tr>\n",
       "    <tr>\n",
       "      <th>1337</th>\n",
       "      <td>61</td>\n",
       "      <td>female</td>\n",
       "      <td>29.070</td>\n",
       "      <td>0</td>\n",
       "      <td>yes</td>\n",
       "      <td>northwest</td>\n",
       "      <td>29141.36030</td>\n",
       "    </tr>\n",
       "  </tbody>\n",
       "</table>\n",
       "<p>1338 rows × 7 columns</p>\n",
       "</div>"
      ],
      "text/plain": [
       "      age     sex     bmi  children smoker     region      charges\n",
       "0      19  female  27.900         0    yes  southwest  16884.92400\n",
       "1      18    male  33.770         1     no  southeast   1725.55230\n",
       "2      28    male  33.000         3     no  southeast   4449.46200\n",
       "3      33    male  22.705         0     no  northwest  21984.47061\n",
       "4      32    male  28.880         0     no  northwest   3866.85520\n",
       "...   ...     ...     ...       ...    ...        ...          ...\n",
       "1333   50    male  30.970         3     no  northwest  10600.54830\n",
       "1334   18  female  31.920         0     no  northeast   2205.98080\n",
       "1335   18  female  36.850         0     no  southeast   1629.83350\n",
       "1336   21  female  25.800         0     no  southwest   2007.94500\n",
       "1337   61  female  29.070         0    yes  northwest  29141.36030\n",
       "\n",
       "[1338 rows x 7 columns]"
      ]
     },
     "execution_count": 342,
     "metadata": {},
     "output_type": "execute_result"
    }
   ],
   "source": [
    "file"
   ]
  },
  {
   "cell_type": "markdown",
   "id": "c5cb2b37",
   "metadata": {},
   "source": [
    "# Descriptive Statistic"
   ]
  },
  {
   "cell_type": "markdown",
   "id": "cc0006f0",
   "metadata": {},
   "source": [
    "1. Rata rata umur pada sample "
   ]
  },
  {
   "cell_type": "code",
   "execution_count": 77,
   "id": "de735c04",
   "metadata": {
    "scrolled": true
   },
   "outputs": [
    {
     "name": "stdout",
     "output_type": "stream",
     "text": [
      "Rata-rata umur dari data sample adalah 39.20702541106129\n"
     ]
    }
   ],
   "source": [
    "mean_umur = np.mean(file['age'])\n",
    "print (\"Rata-rata umur dari data sample adalah \" + str(mean_umur))"
   ]
  },
  {
   "cell_type": "markdown",
   "id": "4d7f0b76",
   "metadata": {},
   "source": [
    "2. Rata-rata nilai BMI dari pengguna yang merokok"
   ]
  },
  {
   "cell_type": "code",
   "execution_count": 120,
   "id": "0c21a262",
   "metadata": {},
   "outputs": [
    {
     "name": "stdout",
     "output_type": "stream",
     "text": [
      "Rata-rata BMI dari perokok adalah 30.708448905109503\n"
     ]
    }
   ],
   "source": [
    "mean_bmi_R = file[file['smoker']=='yes'] ['bmi'].mean()\n",
    "print (\"Rata-rata BMI dari perokok adalah \" + str(mean_bmi_R))"
   ]
  },
  {
   "cell_type": "markdown",
   "id": "9d495cf2",
   "metadata": {},
   "source": [
    "3. Apakah variansi dari data charges perokok dan non perokok sama?"
   ]
  },
  {
   "cell_type": "code",
   "execution_count": 121,
   "id": "2d0a58fb",
   "metadata": {
    "scrolled": true
   },
   "outputs": [
    {
     "name": "stdout",
     "output_type": "stream",
     "text": [
      "Varian dari data charges pada peserta yang merokok adalah 133207311.20634921\n",
      "Varian dari data charges pada peserta yang tidak merokok adalah 35925420.49611172\n"
     ]
    }
   ],
   "source": [
    "varian_charges_R = file[file['smoker']=='yes'] ['charges'].var()\n",
    "varian_charges_NR = file[file['smoker']=='no'] ['charges'].var()\n",
    "print (\"Varian dari data charges pada peserta yang merokok adalah \" + str(varian_charges_R))\n",
    "print (\"Varian dari data charges pada peserta yang tidak merokok adalah \" + str(varian_charges_NR))"
   ]
  },
  {
   "cell_type": "markdown",
   "id": "aecfb258",
   "metadata": {},
   "source": [
    "Dari data di atas terlihat bahwa varian charges pada peserta yang merokok lebih besar dari peserta yang tidak merokok. \n",
    "\n",
    "Hal ini menggambarkan bahwa variasi charges terhadap rataan charges pada peserta yang merok lebih besar.\n",
    "\n",
    "Akan lebih jelas jika kita melihatnya dari rataan dan standart deviasi"
   ]
  },
  {
   "cell_type": "markdown",
   "id": "f8849f1f",
   "metadata": {},
   "source": [
    "4. Apakah rata rata umur perempuan dan laki-laki yang merokok sama?"
   ]
  },
  {
   "cell_type": "code",
   "execution_count": 118,
   "id": "46cad53f",
   "metadata": {},
   "outputs": [
    {
     "name": "stdout",
     "output_type": "stream",
     "text": [
      "Rata umur peserta Laki-laki yang merokok adalah 38.44654088050314\n",
      "Rata umur peserta Perempuan yang merokok adalah 38.608695652173914\n"
     ]
    }
   ],
   "source": [
    "mean_umur_R_L = file[(file['smoker']=='yes') & (file['sex']=='male')] ['age'].mean()\n",
    "mean_umur_R_P = file[(file['smoker']=='yes') & (file['sex']=='female')] ['age'].mean()\n",
    "print (\"Rata umur peserta Laki-laki yang merokok adalah \" + str(mean_umur_R_L))\n",
    "print (\"Rata umur peserta Perempuan yang merokok adalah \" + str(mean_umur_R_P))"
   ]
  },
  {
   "cell_type": "markdown",
   "id": "8fb3cd37",
   "metadata": {},
   "source": [
    "Umur perokok perempuan dan laki-laki hampir sama, namun kalau di lihat lebih detail umur perokok perempuan lebih tinggi"
   ]
  },
  {
   "cell_type": "markdown",
   "id": "090ec59f",
   "metadata": {},
   "source": [
    "5. Mana yang lebih tinggi, rata rata tagihan kesehatan perokok atau non merokok?"
   ]
  },
  {
   "cell_type": "code",
   "execution_count": 122,
   "id": "9acc5fe3",
   "metadata": {},
   "outputs": [
    {
     "name": "stdout",
     "output_type": "stream",
     "text": [
      "Rata-rata dari data charges pada peserta yang merokok adalah 32050.23183153285\n",
      "Rata-rata dari data charges pada peserta yang tidak merokok adalah 8434.268297856199\n"
     ]
    }
   ],
   "source": [
    "mean_charges_R = file[file['smoker']=='yes'] ['charges'].mean()\n",
    "mean_charges_NR = file[file['smoker']=='no'] ['charges'].mean()\n",
    "print (\"Rata-rata dari data charges pada peserta yang merokok adalah \" + str(mean_charges_R))\n",
    "print (\"Rata-rata dari data charges pada peserta yang tidak merokok adalah \" + str(mean_charges_NR))"
   ]
  },
  {
   "cell_type": "markdown",
   "id": "6959c202",
   "metadata": {},
   "source": [
    "Dari data di atas terlihat bahwa rata charges pada peserta yang merokok lebih tinggi dari peserta yang tidak merokok."
   ]
  },
  {
   "cell_type": "markdown",
   "id": "ccf45247",
   "metadata": {},
   "source": [
    "6. Mana yang lebih tinggi, rata rata tagihan kesehatan perokok yang BMI nya diatas 25\n",
    "atau non perokok yang BMI nya diatas 25 ?"
   ]
  },
  {
   "cell_type": "code",
   "execution_count": 123,
   "id": "41504589",
   "metadata": {},
   "outputs": [
    {
     "name": "stdout",
     "output_type": "stream",
     "text": [
      "Rata charges/ biaya peserta dengan bmi>25 dan merokok adalah 35116.90965694065\n",
      "Rata charges/ biaya peserta dengan bmi>25 dan tidak merokok adalah 8629.589609712148\n"
     ]
    }
   ],
   "source": [
    "mean_charges_bmi25_R = file[(file['smoker']=='yes') & (file['bmi']>25)] ['charges'].mean()\n",
    "mean_charges_bmi25_NR = file[(file['smoker']=='no') & (file['bmi']>25)] ['charges'].mean()\n",
    "print (\"Rata charges/ biaya peserta dengan bmi>25 dan merokok adalah \" + str(mean_charges_bmi25_R))\n",
    "print (\"Rata charges/ biaya peserta dengan bmi>25 dan tidak merokok adalah \" + str(mean_charges_bmi25_NR))"
   ]
  },
  {
   "cell_type": "markdown",
   "id": "f8248265",
   "metadata": {},
   "source": [
    "Dari data di atas terlihat bahwa pada kondisi bmi peserta lebih dari 25, \n",
    "rata charges pada peserta yang merokok lebih tinggi dari peserta yang tidak merokok"
   ]
  },
  {
   "cell_type": "markdown",
   "id": "43a9648e",
   "metadata": {},
   "source": [
    "# Analisa Variabel Kategorik"
   ]
  },
  {
   "cell_type": "markdown",
   "id": "816ea545",
   "metadata": {},
   "source": [
    "1. Gender mana yang memiliki tagihan paling tinggi?"
   ]
  },
  {
   "cell_type": "code",
   "execution_count": 139,
   "id": "267a48da",
   "metadata": {},
   "outputs": [],
   "source": [
    "import scipy.stats\n",
    "import matplotlib.pyplot as plt\n",
    "plt.style.use('ggplot')\n",
    "import seaborn as sns"
   ]
  },
  {
   "cell_type": "code",
   "execution_count": 140,
   "id": "563592b0",
   "metadata": {
    "scrolled": true
   },
   "outputs": [
    {
     "data": {
      "text/plain": [
       "<AxesSubplot:xlabel='sex', ylabel='charges'>"
      ]
     },
     "execution_count": 140,
     "metadata": {},
     "output_type": "execute_result"
    },
    {
     "data": {
      "image/png": "[encoded data removed]",
      "text/plain": [
       "<Figure size 432x288 with 1 Axes>"
      ]
     },
     "metadata": {},
     "output_type": "display_data"
    }
   ],
   "source": [
    "sns.boxplot(x=\"sex\", y=\"charges\", data=file)"
   ]
  },
  {
   "cell_type": "code",
   "execution_count": 146,
   "id": "105cf2a0",
   "metadata": {},
   "outputs": [
    {
     "name": "stdout",
     "output_type": "stream",
     "text": [
      "Rata-rata dari data charges pada peserta Laki-laki adalah 13956.751177721886\n",
      "Rata-rata dari data charges pada peserta Perempuan adalah 12569.57884383534\n"
     ]
    }
   ],
   "source": [
    "mean_charges_L = file[file['sex']=='male'] ['charges'].mean()\n",
    "mean_charges_P = file[file['sex']=='female'] ['charges'].mean()\n",
    "print (\"Rata-rata dari data charges pada peserta Laki-laki adalah \" + str(mean_charges_L))\n",
    "print (\"Rata-rata dari data charges pada peserta Perempuan adalah \" + str(mean_charges_P))"
   ]
  },
  {
   "cell_type": "markdown",
   "id": "9f9c6387",
   "metadata": {},
   "source": [
    "* Dilihat dari rata-rata : dari boxplot sekilas besar tagihan antara perempuan dan laki-laki hampir sama. Setelah dihitung     laki-laki mempunyai charges yg lebih tinggi \n",
    "* Dilihat dari distribusi :\n",
    "   perempuan memiliki distribusi yang seimbang \n",
    "   laki-laki memiliki distribusi right skewness yang menggambarkan lebih banyak orang yang membayar charges lebih besar"
   ]
  },
  {
   "cell_type": "markdown",
   "id": "18888ec2",
   "metadata": {},
   "source": [
    "2. Distribusi peluang tagihan di tiap-tiap region"
   ]
  },
  {
   "cell_type": "code",
   "execution_count": 188,
   "id": "67c4fd88",
   "metadata": {},
   "outputs": [
    {
     "data": {
      "text/plain": [
       "<seaborn.axisgrid.FacetGrid at 0x182bb39a5e0>"
      ]
     },
     "execution_count": 188,
     "metadata": {},
     "output_type": "execute_result"
    },
    {
     "data": {
      "image/png": "[encoded data removed]",
      "text/plain": [
       "<Figure size 1527.25x360 with 4 Axes>"
      ]
     },
     "metadata": {},
     "output_type": "display_data"
    }
   ],
   "source": [
    "sns.displot(x='charges', data = file, hue='region', col='region',kde='True')"
   ]
  },
  {
   "cell_type": "markdown",
   "id": "cfde71ff",
   "metadata": {},
   "source": [
    "- Secara umum dari keempat wilayah memmpunyai kecenderungan yang sama yaitu paling banyak terkena charges di kisaran 0-16.000 (left skewness) \n",
    "- Jika dibandingkan dengan wilayah lain, Southeast adalah wilyah yg mempunyai frekuensi terbanyak yang mendapatkan charges  mendekati 0, lalu diikuti oleh region nortwest.\n",
    "- Namun di Southeast juga banyak orang yang mendapatkan charges di sekitaran 38.000-50.000 jika dibandingkan dengan Nortwest dan northeast. hal ini juga hampir serupa dengan Southwest\n",
    "- Di Southwest charges tertingginya adalah sekitar 54.000, berbeda dengan tiga wilayah lainnya yang mencapai 60.000"
   ]
  },
  {
   "cell_type": "markdown",
   "id": "567ccd12",
   "metadata": {},
   "source": [
    "3. Apakah setiap region memiliki proporsi data banyak orang yang sama?"
   ]
  },
  {
   "cell_type": "code",
   "execution_count": 443,
   "id": "6d8c5b8d",
   "metadata": {},
   "outputs": [
    {
     "data": {
      "text/plain": [
       "region\n",
       "northeast    324\n",
       "northwest    325\n",
       "southeast    364\n",
       "southwest    325\n",
       "Name: region, dtype: int64"
      ]
     },
     "execution_count": 443,
     "metadata": {},
     "output_type": "execute_result"
    }
   ],
   "source": [
    "file.groupby('region')['region'].count()"
   ]
  },
  {
   "cell_type": "markdown",
   "id": "55b79cdd",
   "metadata": {},
   "source": [
    "Berdasarkan data diatas, region northeast, northwest, dan southwest mempunyai data yang hampir sama. Sedangkan southeast mempunyai data yang lebih besar dengan jarak 20.\n",
    "Karena ada perbedaan data tersebut lebih baik membandingkan antar region berdasarkan proporsi atau peluangnya dibandingkan dengan menggunakan jumlah data  "
   ]
  },
  {
   "cell_type": "markdown",
   "id": "9ff4e5d1",
   "metadata": {},
   "source": [
    "4. Mana yang lebih tinggi proporsi perokok atau non perokok?"
   ]
  },
  {
   "cell_type": "code",
   "execution_count": 159,
   "id": "e7c0571e",
   "metadata": {},
   "outputs": [
    {
     "data": {
      "text/plain": [
       "smoker\n",
       "no     1064\n",
       "yes     274\n",
       "Name: age, dtype: int64"
      ]
     },
     "execution_count": 159,
     "metadata": {},
     "output_type": "execute_result"
    }
   ],
   "source": [
    "file.groupby('smoker')['age'].count()"
   ]
  },
  {
   "cell_type": "markdown",
   "id": "082cd90b",
   "metadata": {},
   "source": [
    "Berdasarkan data diatas, jumlah non perokok jauh lebih tinggi dari jumlah perokok (mendekati 4x lipat). \n",
    "Untuk itu kita tidak boleh membandingkan keduanya dengan menggunakan jumlah/banyak, namun lebih disarankan menggunakan proporsi atau peluangnya"
   ]
  },
  {
   "cell_type": "markdown",
   "id": "c3472aa6",
   "metadata": {},
   "source": [
    "5. Berapa peluang seseorang tersebut adalah perempuan diketahui dia adalah perokok?"
   ]
  },
  {
   "cell_type": "code",
   "execution_count": 176,
   "id": "7c0fc6c1",
   "metadata": {},
   "outputs": [
    {
     "data": {
      "text/plain": [
       "smoker  sex   \n",
       "no      female    547\n",
       "        male      517\n",
       "yes     female    115\n",
       "        male      159\n",
       "Name: age, dtype: int64"
      ]
     },
     "execution_count": 176,
     "metadata": {},
     "output_type": "execute_result"
    }
   ],
   "source": [
    "file.groupby(['smoker','sex'])['age'].count()"
   ]
  },
  {
   "cell_type": "markdown",
   "id": "bef952c6",
   "metadata": {},
   "source": [
    "Rumus untuk mencari P(Perempuan|Rokok) = n (perempuan dan rokok) / n (rokok) "
   ]
  },
  {
   "cell_type": "code",
   "execution_count": 179,
   "id": "c805595d",
   "metadata": {},
   "outputs": [
    {
     "name": "stdout",
     "output_type": "stream",
     "text": [
      "Peluang orang tersebut perempuan jika dikeketahui merokok adalah 0.4197080291970803\n"
     ]
    }
   ],
   "source": [
    "Peluang_P_jika_R = 115/(115+159)\n",
    "print ('Peluang orang tersebut perempuan jika dikeketahui merokok adalah '+str(Peluang_P_jika_R) )"
   ]
  },
  {
   "cell_type": "markdown",
   "id": "8407333e",
   "metadata": {},
   "source": [
    "6. Berapa peluang seseorang tersebut adalah laki-laki diketahui dia adalah perokok?"
   ]
  },
  {
   "cell_type": "code",
   "execution_count": 181,
   "id": "73dc7e6f",
   "metadata": {},
   "outputs": [
    {
     "name": "stdout",
     "output_type": "stream",
     "text": [
      "Peluang orang tersebut Laki-laki jika dikeketahui merokok adalah 0.5802919708029197\n"
     ]
    }
   ],
   "source": [
    "#berdasarkan data pada no 5, bisa langsung kita hitung peluangnya, sebagai berikut\n",
    "\n",
    "Peluang_L_jika_R = 159/(115+159)\n",
    "print ('Peluang orang tersebut Laki-laki jika dikeketahui merokok adalah '+str(Peluang_L_jika_R) )"
   ]
  },
  {
   "cell_type": "markdown",
   "id": "be3d74ae",
   "metadata": {},
   "source": [
    "# Analisa Variabel Kontinu (CDF)"
   ]
  },
  {
   "cell_type": "markdown",
   "id": "a9dd598e",
   "metadata": {},
   "source": [
    "1.Mencari peluang besar tagihan berdasarkan BMI"
   ]
  },
  {
   "cell_type": "code",
   "execution_count": 193,
   "id": "934829f3",
   "metadata": {},
   "outputs": [
    {
     "name": "stderr",
     "output_type": "stream",
     "text": [
      "C:\\Users\\ASUS\\anaconda3\\lib\\site-packages\\seaborn\\_decorators.py:36: FutureWarning: Pass the following variables as keyword args: x, y. From version 0.12, the only valid positional argument will be `data`, and passing other arguments without an explicit keyword will result in an error or misinterpretation.\n",
      "  warnings.warn(\n"
     ]
    },
    {
     "data": {
      "text/plain": [
       "<seaborn.axisgrid.JointGrid at 0x182bd94fd90>"
      ]
     },
     "execution_count": 193,
     "metadata": {},
     "output_type": "execute_result"
    },
    {
     "data": {
      "image/png": "[encoded data removed]",
      "text/plain": [
       "<Figure size 432x432 with 3 Axes>"
      ]
     },
     "metadata": {},
     "output_type": "display_data"
    }
   ],
   "source": [
    "sns.jointplot('charges','bmi',data=file, kind='kde')"
   ]
  },
  {
   "cell_type": "markdown",
   "id": "ae3af474",
   "metadata": {},
   "source": [
    "bedasarkan plot di atas plot joint probability diatas, peluang paling besar terjadi saat bmi berada disekitar 30 dan charges berada disekitar 80000"
   ]
  },
  {
   "cell_type": "markdown",
   "id": "bbb1272d",
   "metadata": {},
   "source": [
    "2. Mencari kemungkin terjadi, seorang dengan BMI diatas 25 akan mendapatkan tagihan kesehatan di atas 16.700."
   ]
  },
  {
   "cell_type": "code",
   "execution_count": 222,
   "id": "f561bfcc",
   "metadata": {},
   "outputs": [],
   "source": [
    "condition=(file['bmi']>25)\n",
    "charges_given_bmi = file [condition]['charges']\n",
    "cond_bmi = file [condition]['bmi']"
   ]
  },
  {
   "cell_type": "code",
   "execution_count": 272,
   "id": "dc2624d6",
   "metadata": {
    "scrolled": true
   },
   "outputs": [
    {
     "data": {
      "text/plain": [
       "<AxesSubplot:xlabel='charges', ylabel='Density'>"
      ]
     },
     "execution_count": 272,
     "metadata": {},
     "output_type": "execute_result"
    },
    {
     "data": {
      "image/png": "[encoded data removed]",
      "text/plain": [
       "<Figure size 432x288 with 1 Axes>"
      ]
     },
     "metadata": {},
     "output_type": "display_data"
    }
   ],
   "source": [
    "sns.distplot(charges_given_bmi, axlabel='charges')"
   ]
  },
  {
   "cell_type": "code",
   "execution_count": 271,
   "id": "3fa084f8",
   "metadata": {},
   "outputs": [
    {
     "name": "stdout",
     "output_type": "stream",
     "text": [
      "banyak orang yang nilai bmi > 25 dan charges> 16.700 adalah 283\n",
      "banyak orang yang nilai bmi > 25 adalah 1091\n",
      "Peluang orang yang tagihan lebih dari 16700 jika diketahui bmi>25  adalah 0.25939505041246563\n"
     ]
    }
   ],
   "source": [
    "nbmi_lebih_25=file[file['bmi']>25]['age'].count()\n",
    "ncharges_bmi=file.query('charges>16700 & bmi>25 ')['age'].count()\n",
    "P_chager_16700_bmi_25=ncharges_bmi/nbmi_lebih_25\n",
    "\n",
    "print('banyak orang yang nilai bmi > 25 dan charges> 16.700 adalah '+str(ncharges_bmi))\n",
    "print('banyak orang yang nilai bmi > 25 adalah '+str(nbmi_lebih_25))\n",
    "\n",
    "print('Peluang orang yang tagihan lebih dari 16700 jika diketahui bmi>25  adalah '+str(P_chager_16700_bmi_25))"
   ]
  },
  {
   "cell_type": "markdown",
   "id": "8deb9a6e",
   "metadata": {},
   "source": [
    "3. Berapa peluang seseorang acak tagihan kesehatannya diatas 16.7k diketahui dia adalah\n",
    "perokok"
   ]
  },
  {
   "cell_type": "code",
   "execution_count": 281,
   "id": "bcdd598a",
   "metadata": {},
   "outputs": [
    {
     "name": "stdout",
     "output_type": "stream",
     "text": [
      "banyak orang yang merokok adalah 274\n",
      "banyak orang yang merokok dan charges yang melebihi 16700 adalah 254\n",
      "Peluang orang mendapatkan charges diatas 16700 jika diketahui merokok adalah 0.927007299270073\n"
     ]
    }
   ],
   "source": [
    "nrokok=file[file['smoker']=='yes']['age'].count()\n",
    "nrokok_charges_16700=file[(file['smoker']=='yes') & (file['charges']>16700)]['age'].count()\n",
    "P_charges_16700_rokok=nrokok_charges_16700/nrokok\n",
    "\n",
    "print('banyak orang yang merokok adalah '+str(nrokok))\n",
    "print('banyak orang yang merokok dan charges yang melebihi 16700 adalah '+str(nrokok_charges_16700))\n",
    "\n",
    "print('Peluang orang mendapatkan charges diatas 16700 jika diketahui merokok adalah '+str(P_charges_16700_rokok))"
   ]
  },
  {
   "cell_type": "markdown",
   "id": "da49329d",
   "metadata": {},
   "source": [
    "Dapat dilihat bahwa peluang orang tersebut mendapatkan tagihan lebih dari 16.700 jika dia perokok hampir mendekati 1.\n",
    "Sedangkan rata keseluruhan tagihan adalah sekitar 10.000, hal ini mengindikasikan adanya perbedaan besar antara tagihan orang yang merokok dan tidak "
   ]
  },
  {
   "cell_type": "markdown",
   "id": "05e3c454",
   "metadata": {},
   "source": [
    "4. Mana yang lebih mungkin terjadi kejadian a atau b?\n",
    "\n",
    "a. Seseorang dengan BMI diatas 25 mendapatkan tagihan kesehatan diatas 16.7k,\n",
    "   \n",
    "    P(tagihan>16.700 | bmi> 25)\n",
    "    Langkah perhitungan sudah dilakukan di no 2"
   ]
  },
  {
   "cell_type": "code",
   "execution_count": 284,
   "id": "3ee1eba6",
   "metadata": {},
   "outputs": [
    {
     "name": "stdout",
     "output_type": "stream",
     "text": [
      "Peluang orang yang tagihan lebih dari 16700 jika diketahui bmi>25  adalah 0.25939505041246563\n"
     ]
    }
   ],
   "source": [
    "print('Peluang orang yang tagihan lebih dari 16700 jika diketahui bmi>25  adalah '+str(P_chager_16700_bmi_25))"
   ]
  },
  {
   "cell_type": "markdown",
   "id": "1342532d",
   "metadata": {},
   "source": [
    "b. Seseorang dengan BMI dibawah 25 mendapatkan tagihan kesehatan diatas\n",
    "16.7k\n",
    "    \n",
    "    P(tagihan>16.700 | bmi< 25)"
   ]
  },
  {
   "cell_type": "code",
   "execution_count": 285,
   "id": "85f10af7",
   "metadata": {},
   "outputs": [
    {
     "name": "stdout",
     "output_type": "stream",
     "text": [
      "banyak orang yang nilai bmi < 25 dan charges> 16.700 adalah 51\n",
      "banyak orang yang nilai bmi < 25 adalah 245\n",
      "Peluang orang yang tagihan lebih dari 16700 jika diketahui bmi<25  adalah 0.20816326530612245\n"
     ]
    }
   ],
   "source": [
    "nbmi_kurang_25=file[file['bmi']<25]['age'].count()\n",
    "ncharges_bmi_kurang25=file.query('charges>16700 & bmi<25 ')['age'].count()\n",
    "P_chager_16700_bmi_kurang_25=ncharges_bmi_kurang25/nbmi_kurang_25\n",
    "\n",
    "print('banyak orang yang nilai bmi < 25 dan charges> 16.700 adalah '+str(ncharges_bmi_kurang25))\n",
    "print('banyak orang yang nilai bmi < 25 adalah '+str(nbmi_kurang_25))\n",
    "\n",
    "print('Peluang orang yang tagihan lebih dari 16700 jika diketahui bmi<25  adalah '+str(P_chager_16700_bmi_kurang_25))"
   ]
  },
  {
   "cell_type": "markdown",
   "id": "a473756c",
   "metadata": {},
   "source": [
    "Berdasarkan nilai peluang nya, orang yang bmi>25 akan LEBIH BERPELUANG mendapatkan tagihan lebih dari 16.700 \n",
    "jika dibandingkan dengan seseorang jika orang tersebut diketahui bmi nya < 25"
   ]
  },
  {
   "cell_type": "markdown",
   "id": "268b9520",
   "metadata": {},
   "source": [
    "5. Mana yang lebih mungkin terjadi\n",
    "\n",
    "   a. Seseorang perokok dengan BMI diatas 25 mendapatkan tagihan kesehatan diatas 16.7k"
   ]
  },
  {
   "cell_type": "code",
   "execution_count": 287,
   "id": "30e11821",
   "metadata": {},
   "outputs": [
    {
     "name": "stdout",
     "output_type": "stream",
     "text": [
      "banyak orang yang merokok dan bmi lebih dari 25 adalah 219\n",
      "banyak orang yang merokok, charges yang melebihi 16700, bmi lebih dari 25 adalah 215\n",
      "Peluang orang mendapatkan charges diatas 16700 jika diketahui merokok dan bmi lebih dari 25 adalah 0.9817351598173516\n"
     ]
    }
   ],
   "source": [
    "nrokok_bmi25=file[(file['smoker']=='yes')&(file['bmi']>25)]['age'].count()\n",
    "nrokok_bmi25_charges16700=file[(file['smoker']=='yes') & (file['charges']>16700)& (file['bmi']>25)]['age'].count()\n",
    "P_charges16700_rokok_bmi25=nrokok_bmi25_charges16700/nrokok_bmi25\n",
    "\n",
    "print('banyak orang yang merokok dan bmi lebih dari 25 adalah '+str(nrokok_bmi25))\n",
    "print('banyak orang yang merokok, charges yang melebihi 16700, bmi lebih dari 25 adalah '+str(nrokok_bmi25_charges16700))\n",
    "\n",
    "print('Peluang orang mendapatkan charges diatas 16700 jika diketahui merokok dan bmi lebih dari 25 adalah '+str(P_charges16700_rokok_bmi25))"
   ]
  },
  {
   "cell_type": "markdown",
   "id": "bf51af44",
   "metadata": {},
   "source": [
    "b. Seseorang non perokok dengan BMI diatas 25 mendapatkan tagihan kesehatan diatas 16.7k"
   ]
  },
  {
   "cell_type": "code",
   "execution_count": 289,
   "id": "93c6cbb4",
   "metadata": {},
   "outputs": [
    {
     "name": "stdout",
     "output_type": "stream",
     "text": [
      "banyak orang yang tidak merokok dan bmi lebih dari 25 adalah 872\n",
      "banyak orang yang tidak merokok, charges yang melebihi 16700, bmi lebih dari 25 adalah 68\n",
      "Peluang orang mendapatkan charges diatas 16700 jika diketahui tidak merokok dan bmi lebih dari 25 adalah 0.0779816513761468\n"
     ]
    }
   ],
   "source": [
    "nnonrokok_bmi25=file[(file['smoker']=='no')&(file['bmi']>25)]['age'].count()\n",
    "nnonrokok_bmi25_charges16700=file[(file['smoker']=='no') & (file['charges']>16700)& (file['bmi']>25)]['age'].count()\n",
    "P_charges16700_nonrokok_bmi25=nnonrokok_bmi25_charges16700/nnonrokok_bmi25\n",
    "\n",
    "print('banyak orang yang tidak merokok dan bmi lebih dari 25 adalah '+str(nnonrokok_bmi25))\n",
    "print('banyak orang yang tidak merokok, charges yang melebihi 16700, bmi lebih dari 25 adalah '+str(nnonrokok_bmi25_charges16700))\n",
    "\n",
    "print('Peluang orang mendapatkan charges diatas 16700 jika diketahui tidak merokok dan bmi lebih dari 25 adalah '+str(P_charges16700_nonrokok_bmi25))"
   ]
  },
  {
   "cell_type": "markdown",
   "id": "ac4483ed",
   "metadata": {},
   "source": [
    "Berdasarkan nilai peluang nya, \n",
    "orang yang merokok dan bmi>25 akan JAUH LEBIH BERPELUANG mendapatkan tagihan lebih dari 16.700 \n",
    "jika dibandingkan dengan \n",
    "orang jika orang tersebut diketahui bmi nya > 25 dan tidak merokok"
   ]
  },
  {
   "cell_type": "markdown",
   "id": "5c54b71c",
   "metadata": {},
   "source": [
    "Kesimpulan:\n",
    "    \n",
    "- Dari no 2 dan 3 kita bisa lihat bahwa perokok JAUH LEBIH berpeluang untuk mendapatkan tagihan diatas 16.700 jika dibandingkan orang tersebut diketahui bmi lebih dari 25\n",
    "- Dari no 4 diketahui bahwa orang dengan bmi > 25 LEBIH berpeluang untuk mendapatkan tagihan diatas 16.700 jika dibandingkan apabila orang tersebut tersebut diketahui bmi < 25 (TAPI tidak terlalu beda jauh)\n",
    "- Dari no 5 diketahui bahwa orang dengan kondisi bmi>25 dan perokok SANGAT JAUH LEBIH berpeluang untuk mendapatkan tagihan diatas 16.700 apabila orang tersebut tersebut diketahui bmi > 25 dan tidak perokok"
   ]
  },
  {
   "cell_type": "markdown",
   "id": "abc661d6",
   "metadata": {},
   "source": [
    "# Analisa Korelasi Variabel"
   ]
  },
  {
   "cell_type": "markdown",
   "id": "74448322",
   "metadata": {},
   "source": [
    "1. Analisa Korelasi antara Charge dengan BMI"
   ]
  },
  {
   "cell_type": "code",
   "execution_count": 296,
   "id": "879e60e4",
   "metadata": {},
   "outputs": [
    {
     "data": {
      "text/html": [
       "<div>\n",
       "<style scoped>\n",
       "    .dataframe tbody tr th:only-of-type {\n",
       "        vertical-align: middle;\n",
       "    }\n",
       "\n",
       "    .dataframe tbody tr th {\n",
       "        vertical-align: top;\n",
       "    }\n",
       "\n",
       "    .dataframe thead th {\n",
       "        text-align: right;\n",
       "    }\n",
       "</style>\n",
       "<table border=\"1\" class=\"dataframe\">\n",
       "  <thead>\n",
       "    <tr style=\"text-align: right;\">\n",
       "      <th></th>\n",
       "      <th>charges</th>\n",
       "      <th>bmi</th>\n",
       "    </tr>\n",
       "  </thead>\n",
       "  <tbody>\n",
       "    <tr>\n",
       "      <th>charges</th>\n",
       "      <td>1.000000</td>\n",
       "      <td>0.198341</td>\n",
       "    </tr>\n",
       "    <tr>\n",
       "      <th>bmi</th>\n",
       "      <td>0.198341</td>\n",
       "      <td>1.000000</td>\n",
       "    </tr>\n",
       "  </tbody>\n",
       "</table>\n",
       "</div>"
      ],
      "text/plain": [
       "          charges       bmi\n",
       "charges  1.000000  0.198341\n",
       "bmi      0.198341  1.000000"
      ]
     },
     "execution_count": 296,
     "metadata": {},
     "output_type": "execute_result"
    }
   ],
   "source": [
    "file[['charges','bmi']].corr()"
   ]
  },
  {
   "cell_type": "markdown",
   "id": "3922f551",
   "metadata": {},
   "source": [
    "- korelasi rendah"
   ]
  },
  {
   "cell_type": "markdown",
   "id": "ef216c73",
   "metadata": {},
   "source": [
    "2. Analisa Korelasi antara Charge dengan rokok"
   ]
  },
  {
   "cell_type": "code",
   "execution_count": 299,
   "id": "c86fd328",
   "metadata": {},
   "outputs": [
    {
     "data": {
      "text/html": [
       "<div>\n",
       "<style scoped>\n",
       "    .dataframe tbody tr th:only-of-type {\n",
       "        vertical-align: middle;\n",
       "    }\n",
       "\n",
       "    .dataframe tbody tr th {\n",
       "        vertical-align: top;\n",
       "    }\n",
       "\n",
       "    .dataframe thead th {\n",
       "        text-align: right;\n",
       "    }\n",
       "</style>\n",
       "<table border=\"1\" class=\"dataframe\">\n",
       "  <thead>\n",
       "    <tr style=\"text-align: right;\">\n",
       "      <th></th>\n",
       "      <th>charges</th>\n",
       "      <th>smoker</th>\n",
       "    </tr>\n",
       "  </thead>\n",
       "  <tbody>\n",
       "    <tr>\n",
       "      <th>charges</th>\n",
       "      <td>1.000000</td>\n",
       "      <td>0.787251</td>\n",
       "    </tr>\n",
       "    <tr>\n",
       "      <th>smoker</th>\n",
       "      <td>0.787251</td>\n",
       "      <td>1.000000</td>\n",
       "    </tr>\n",
       "  </tbody>\n",
       "</table>\n",
       "</div>"
      ],
      "text/plain": [
       "          charges    smoker\n",
       "charges  1.000000  0.787251\n",
       "smoker   0.787251  1.000000"
      ]
     },
     "execution_count": 299,
     "metadata": {},
     "output_type": "execute_result"
    }
   ],
   "source": [
    "file['smoker'] = file['smoker'].astype('category')\n",
    "file['smoker'].cat.categories = [0,1]\n",
    "file['smoker'] = file['smoker'].astype('float')\n",
    "file[['charges','smoker']].corr()"
   ]
  },
  {
   "cell_type": "markdown",
   "id": "4644bf58",
   "metadata": {},
   "source": [
    "- korelasi tinggi\n",
    "\n",
    "nb:\n",
    "- data kategorikal smoker saya ubah menjadi bentuk float, dimana no = 0 dan yes = 1 (semakin tinggi angka saat dia merokok)\n",
    "- correlasi positif artinya semakin dia merokok maka semakin tinggi tagihannya"
   ]
  },
  {
   "cell_type": "markdown",
   "id": "e2089a24",
   "metadata": {},
   "source": [
    "3. Analisa Korelasi antara Charge dengan Umur"
   ]
  },
  {
   "cell_type": "code",
   "execution_count": 444,
   "id": "141b3084",
   "metadata": {},
   "outputs": [
    {
     "data": {
      "text/html": [
       "<div>\n",
       "<style scoped>\n",
       "    .dataframe tbody tr th:only-of-type {\n",
       "        vertical-align: middle;\n",
       "    }\n",
       "\n",
       "    .dataframe tbody tr th {\n",
       "        vertical-align: top;\n",
       "    }\n",
       "\n",
       "    .dataframe thead th {\n",
       "        text-align: right;\n",
       "    }\n",
       "</style>\n",
       "<table border=\"1\" class=\"dataframe\">\n",
       "  <thead>\n",
       "    <tr style=\"text-align: right;\">\n",
       "      <th></th>\n",
       "      <th>charges</th>\n",
       "      <th>age</th>\n",
       "    </tr>\n",
       "  </thead>\n",
       "  <tbody>\n",
       "    <tr>\n",
       "      <th>charges</th>\n",
       "      <td>1.000000</td>\n",
       "      <td>0.299008</td>\n",
       "    </tr>\n",
       "    <tr>\n",
       "      <th>age</th>\n",
       "      <td>0.299008</td>\n",
       "      <td>1.000000</td>\n",
       "    </tr>\n",
       "  </tbody>\n",
       "</table>\n",
       "</div>"
      ],
      "text/plain": [
       "          charges       age\n",
       "charges  1.000000  0.299008\n",
       "age      0.299008  1.000000"
      ]
     },
     "execution_count": 444,
     "metadata": {},
     "output_type": "execute_result"
    }
   ],
   "source": [
    "file[['charges','age']].corr()"
   ]
  },
  {
   "cell_type": "markdown",
   "id": "9bbb971e",
   "metadata": {},
   "source": [
    "- korelasi sangat rendah"
   ]
  },
  {
   "cell_type": "markdown",
   "id": "a5da259f",
   "metadata": {},
   "source": [
    "4. Analisa Korelasi antara Charge dengan sex"
   ]
  },
  {
   "cell_type": "code",
   "execution_count": 301,
   "id": "9741c733",
   "metadata": {},
   "outputs": [
    {
     "data": {
      "text/html": [
       "<div>\n",
       "<style scoped>\n",
       "    .dataframe tbody tr th:only-of-type {\n",
       "        vertical-align: middle;\n",
       "    }\n",
       "\n",
       "    .dataframe tbody tr th {\n",
       "        vertical-align: top;\n",
       "    }\n",
       "\n",
       "    .dataframe thead th {\n",
       "        text-align: right;\n",
       "    }\n",
       "</style>\n",
       "<table border=\"1\" class=\"dataframe\">\n",
       "  <thead>\n",
       "    <tr style=\"text-align: right;\">\n",
       "      <th></th>\n",
       "      <th>charges</th>\n",
       "      <th>sex</th>\n",
       "    </tr>\n",
       "  </thead>\n",
       "  <tbody>\n",
       "    <tr>\n",
       "      <th>charges</th>\n",
       "      <td>1.000000</td>\n",
       "      <td>0.057292</td>\n",
       "    </tr>\n",
       "    <tr>\n",
       "      <th>sex</th>\n",
       "      <td>0.057292</td>\n",
       "      <td>1.000000</td>\n",
       "    </tr>\n",
       "  </tbody>\n",
       "</table>\n",
       "</div>"
      ],
      "text/plain": [
       "          charges       sex\n",
       "charges  1.000000  0.057292\n",
       "sex      0.057292  1.000000"
      ]
     },
     "execution_count": 301,
     "metadata": {},
     "output_type": "execute_result"
    }
   ],
   "source": [
    "file['sex'] = file['sex'].astype('category')\n",
    "file['sex'].cat.categories = [0,1]\n",
    "file['sex'] = file['sex'].astype('float')\n",
    "file[['charges','sex']].corr()"
   ]
  },
  {
   "cell_type": "markdown",
   "id": "de29bd53",
   "metadata": {},
   "source": [
    "- korelasi sangat rendah\n",
    "\n",
    "nb:\n",
    "- data kategorikal sex saya ubah menjadi bentuk float, dimana female = 0 dan male = 1"
   ]
  },
  {
   "cell_type": "markdown",
   "id": "64dd3ff6",
   "metadata": {},
   "source": [
    "5. Analisa Korelasi antara Charge dengan children"
   ]
  },
  {
   "cell_type": "code",
   "execution_count": 302,
   "id": "89759493",
   "metadata": {},
   "outputs": [
    {
     "data": {
      "text/html": [
       "<div>\n",
       "<style scoped>\n",
       "    .dataframe tbody tr th:only-of-type {\n",
       "        vertical-align: middle;\n",
       "    }\n",
       "\n",
       "    .dataframe tbody tr th {\n",
       "        vertical-align: top;\n",
       "    }\n",
       "\n",
       "    .dataframe thead th {\n",
       "        text-align: right;\n",
       "    }\n",
       "</style>\n",
       "<table border=\"1\" class=\"dataframe\">\n",
       "  <thead>\n",
       "    <tr style=\"text-align: right;\">\n",
       "      <th></th>\n",
       "      <th>charges</th>\n",
       "      <th>children</th>\n",
       "    </tr>\n",
       "  </thead>\n",
       "  <tbody>\n",
       "    <tr>\n",
       "      <th>charges</th>\n",
       "      <td>1.000000</td>\n",
       "      <td>0.067998</td>\n",
       "    </tr>\n",
       "    <tr>\n",
       "      <th>children</th>\n",
       "      <td>0.067998</td>\n",
       "      <td>1.000000</td>\n",
       "    </tr>\n",
       "  </tbody>\n",
       "</table>\n",
       "</div>"
      ],
      "text/plain": [
       "           charges  children\n",
       "charges   1.000000  0.067998\n",
       "children  0.067998  1.000000"
      ]
     },
     "execution_count": 302,
     "metadata": {},
     "output_type": "execute_result"
    }
   ],
   "source": [
    "file[['charges','children']].corr()"
   ]
  },
  {
   "cell_type": "markdown",
   "id": "78b5ee7c",
   "metadata": {},
   "source": [
    "- korelasi sangat rendah"
   ]
  },
  {
   "cell_type": "markdown",
   "id": "f8fc343d",
   "metadata": {},
   "source": [
    "6. Analisa Korelasi antara Age dengan BMI"
   ]
  },
  {
   "cell_type": "code",
   "execution_count": 303,
   "id": "630e92b6",
   "metadata": {},
   "outputs": [
    {
     "data": {
      "text/html": [
       "<div>\n",
       "<style scoped>\n",
       "    .dataframe tbody tr th:only-of-type {\n",
       "        vertical-align: middle;\n",
       "    }\n",
       "\n",
       "    .dataframe tbody tr th {\n",
       "        vertical-align: top;\n",
       "    }\n",
       "\n",
       "    .dataframe thead th {\n",
       "        text-align: right;\n",
       "    }\n",
       "</style>\n",
       "<table border=\"1\" class=\"dataframe\">\n",
       "  <thead>\n",
       "    <tr style=\"text-align: right;\">\n",
       "      <th></th>\n",
       "      <th>age</th>\n",
       "      <th>bmi</th>\n",
       "    </tr>\n",
       "  </thead>\n",
       "  <tbody>\n",
       "    <tr>\n",
       "      <th>age</th>\n",
       "      <td>1.000000</td>\n",
       "      <td>0.109272</td>\n",
       "    </tr>\n",
       "    <tr>\n",
       "      <th>bmi</th>\n",
       "      <td>0.109272</td>\n",
       "      <td>1.000000</td>\n",
       "    </tr>\n",
       "  </tbody>\n",
       "</table>\n",
       "</div>"
      ],
      "text/plain": [
       "          age       bmi\n",
       "age  1.000000  0.109272\n",
       "bmi  0.109272  1.000000"
      ]
     },
     "execution_count": 303,
     "metadata": {},
     "output_type": "execute_result"
    }
   ],
   "source": [
    "file[['age','bmi']].corr()"
   ]
  },
  {
   "cell_type": "markdown",
   "id": "228ed956",
   "metadata": {},
   "source": [
    "Kesimpulan dari 6 korelasi diatas:\n",
    "\n",
    "- Hanya charges dan merokok saja yang mempunyai korelasi yang cukup tinggi, dimana jika dia merokok, charges nya juga ikut tinggi\n",
    "- Charges dan BMI mempunyai korelasi yang rendah, karena nilainya hanya mendekati 0.2\n",
    "- Charges dan BMI mempunyai korelasi yang rendah, karena nilainya hanya mendekati 0.3\n",
    "- Sedang yang lainnya tidak mempunyai korelasi karena nilai nya yang mendekati angka 0"
   ]
  },
  {
   "cell_type": "markdown",
   "id": "3b0a7c79",
   "metadata": {},
   "source": [
    "# Pengujian Hipotesis"
   ]
  },
  {
   "cell_type": "markdown",
   "id": "a3f2c591",
   "metadata": {},
   "source": [
    "1. Uji Hipotesis : Tagihan kesehatan perokok lebih tinggi daripada tagihan kesehatan non perokok"
   ]
  },
  {
   "cell_type": "code",
   "execution_count": 360,
   "id": "e506c4f7",
   "metadata": {},
   "outputs": [],
   "source": [
    "from scipy.stats import ttest_ind"
   ]
  },
  {
   "cell_type": "code",
   "execution_count": 404,
   "id": "3efb5ce2",
   "metadata": {},
   "outputs": [],
   "source": [
    "#ambil data\n",
    "tagihan_R = file[file['smoker']=='yes']['charges']\n",
    "tagihan_NR = file[file['smoker']=='no']['charges']"
   ]
  },
  {
   "cell_type": "code",
   "execution_count": 362,
   "id": "8982c11b",
   "metadata": {},
   "outputs": [],
   "source": [
    "alpha = 0.05"
   ]
  },
  {
   "cell_type": "code",
   "execution_count": 405,
   "id": "f4281eb3",
   "metadata": {},
   "outputs": [],
   "source": [
    "#ujihipotesis\n",
    "\n",
    "stat, p = ttest_ind(a = tagihan_R, b = tagihan_NR, equal_var=False, alternative='greater') \n",
    "#varian berbeda, didapat dari perhitungan sebelumnya"
   ]
  },
  {
   "cell_type": "code",
   "execution_count": 406,
   "id": "97f21d6d",
   "metadata": {
    "scrolled": true
   },
   "outputs": [
    {
     "name": "stdout",
     "output_type": "stream",
     "text": [
      "Statistics = 32.7519, p-value = 0.0000000000\n"
     ]
    }
   ],
   "source": [
    "print('Statistics = %.4f, p-value = %.10f' % (stat, p)) "
   ]
  },
  {
   "cell_type": "code",
   "execution_count": 428,
   "id": "63efbe75",
   "metadata": {},
   "outputs": [
    {
     "name": "stdout",
     "output_type": "stream",
     "text": [
      "Tagihan Perokok > Tagihan Non Perokok (Tolak H0)\n"
     ]
    }
   ],
   "source": [
    "#kesimpulan\n",
    "\n",
    "if p1 > alpha:\n",
    "    print('Tagihan Perokok = Tagihan Non Perokok (Gagal tolak H0)') \n",
    "else:\n",
    "    print('Tagihan Perokok > Tagihan Non Perokok (Tolak H0)')"
   ]
  },
  {
   "cell_type": "markdown",
   "id": "7e904142",
   "metadata": {},
   "source": [
    "2. Uji hypotesis : Tagihan kesehatan dengan BMI diatas 25 lebih tinggi daripada tagihan kesehatan\n",
    "dengan BMI dibawah 25"
   ]
  },
  {
   "cell_type": "code",
   "execution_count": 408,
   "id": "c6dccfef",
   "metadata": {},
   "outputs": [],
   "source": [
    "#ambil data\n",
    "tagihan_bmi_lebih25 = file[file['bmi']>25]['charges']\n",
    "tagihan_bmi_kurang25 = file[file['bmi']<25]['charges']"
   ]
  },
  {
   "cell_type": "code",
   "execution_count": 409,
   "id": "a0eae736",
   "metadata": {},
   "outputs": [],
   "source": [
    "#ujihipotesis\n",
    "\n",
    "stat1 , p1 = ttest_ind(a=tagihan_bmi_lebih25, b=tagihan_bmi_kurang25, equal_var=False, alternative='greater')"
   ]
  },
  {
   "cell_type": "code",
   "execution_count": 410,
   "id": "b9c601c2",
   "metadata": {},
   "outputs": [
    {
     "name": "stdout",
     "output_type": "stream",
     "text": [
      "Statistic = 5.9299, p-value = 0.0000000025\n"
     ]
    }
   ],
   "source": [
    "print('Statistic = %.4f, p-value = %.10f' %(stat1,p1))"
   ]
  },
  {
   "cell_type": "code",
   "execution_count": 413,
   "id": "78f727a0",
   "metadata": {},
   "outputs": [
    {
     "name": "stdout",
     "output_type": "stream",
     "text": [
      "Tagihan orang dengan bmi lebih dari 25 > Tagihan orang dengan bmi kurang dari 25 (Tolak H0)\n"
     ]
    }
   ],
   "source": [
    "#kesimpulan\n",
    "\n",
    "if p > alpha:\n",
    "    print('Tagihan orang dengan bmi lebih dari 25 = Tagihan orang dengan bmi kurang dari 25 (Gagal tolak H0)') \n",
    "else:\n",
    "    print('Tagihan orang dengan bmi lebih dari 25 > Tagihan orang dengan bmi kurang dari 25 (Tolak H0)')"
   ]
  },
  {
   "cell_type": "markdown",
   "id": "fce15ed0",
   "metadata": {},
   "source": [
    "3. Uji hypotesis : BMI laki-laki dan perempuan sama"
   ]
  },
  {
   "cell_type": "code",
   "execution_count": 419,
   "id": "3d6ff8d0",
   "metadata": {},
   "outputs": [],
   "source": [
    "#ambil data\n",
    "bmi_laki = file[file['sex']=='male']['bmi']\n",
    "bmi_perempuan = file[file['sex']=='female']['bmi']"
   ]
  },
  {
   "cell_type": "code",
   "execution_count": 421,
   "id": "a7178767",
   "metadata": {},
   "outputs": [],
   "source": [
    "#uji hypotesis\n",
    "\n",
    "stat2,p2 = ttest_ind(a=bmi_laki, b=bmi_perempuan, equal_var=False, alternative='two-sided')"
   ]
  },
  {
   "cell_type": "code",
   "execution_count": 424,
   "id": "89efe915",
   "metadata": {},
   "outputs": [
    {
     "name": "stdout",
     "output_type": "stream",
     "text": [
      "Statistics = 1.697028 , p-value = 0.089924\n"
     ]
    }
   ],
   "source": [
    "print ('Statistics = %4f , p-value = %2f' %(stat2,p2))"
   ]
  },
  {
   "cell_type": "code",
   "execution_count": 427,
   "id": "4c735763",
   "metadata": {},
   "outputs": [
    {
     "name": "stdout",
     "output_type": "stream",
     "text": [
      "BMI laki-laki = BMI perempuan (Gagal tolak H0)\n"
     ]
    }
   ],
   "source": [
    "#kesimpulan\n",
    "\n",
    "if p2 > alpha:\n",
    "    print('BMI laki-laki = BMI perempuan (Gagal tolak H0)') \n",
    "else:\n",
    "    print('BMI laki-laki tidak sama BMI perempuan  (Tolak H0)')"
   ]
  },
  {
   "cell_type": "code",
   "execution_count": null,
   "id": "a69c0510",
   "metadata": {},
   "outputs": [],
   "source": []
  }
 ],
 "metadata": {
  "kernelspec": {
   "display_name": "Python 3",
   "language": "python",
   "name": "python3"
  },
  "language_info": {
   "codemirror_mode": {
    "name": "ipython",
    "version": 3
   },
   "file_extension": ".py",
   "mimetype": "text/x-python",
   "name": "python",
   "nbconvert_exporter": "python",
   "pygments_lexer": "ipython3",
   "version": "3.8.8"
  }
 },
 "nbformat": 4,
 "nbformat_minor": 5
}
